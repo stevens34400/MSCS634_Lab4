{
 "cells": [
  {
   "cell_type": "markdown",
   "id": "42c20cc8",
   "metadata": {},
   "source": [
    "\n",
    "## Course: MSCS 634 - Regression Analysis Lab\n",
    "### Lab Assignment: Lab 4 - Multiple Regression and Regularization\n",
    "### Name: Steven Sisjayawan\n",
    "\n",
    "**Description:** In this lab, we explore various regression techniques, including regularization methods to improve model performance and prevent overfitting."
   ]
  },
  {
   "cell_type": "markdown",
   "id": "b380a3ab",
   "metadata": {},
   "source": [
    "## Step 1: Data Preparation\n",
    "**Objective:** Load and inspect the Diabetes dataset, ensuring data quality prior to modeling.\n",
    "- Load the dataset from `sklearn.datasets`.\n",
    "- Convert to pandas DataFrame and Series for easier manipulation.\n",
    "- Display first few rows and summary statistics to understand feature distributions.\n"
   ]
  },
  {
   "cell_type": "code",
   "execution_count": 1,
   "id": "5d2b32b5",
   "metadata": {},
   "outputs": [
    {
     "data": {
      "text/html": [
       "<div>\n",
       "<style scoped>\n",
       "    .dataframe tbody tr th:only-of-type {\n",
       "        vertical-align: middle;\n",
       "    }\n",
       "\n",
       "    .dataframe tbody tr th {\n",
       "        vertical-align: top;\n",
       "    }\n",
       "\n",
       "    .dataframe thead th {\n",
       "        text-align: right;\n",
       "    }\n",
       "</style>\n",
       "<table border=\"1\" class=\"dataframe\">\n",
       "  <thead>\n",
       "    <tr style=\"text-align: right;\">\n",
       "      <th></th>\n",
       "      <th>age</th>\n",
       "      <th>sex</th>\n",
       "      <th>bmi</th>\n",
       "      <th>bp</th>\n",
       "      <th>s1</th>\n",
       "      <th>s2</th>\n",
       "      <th>s3</th>\n",
       "      <th>s4</th>\n",
       "      <th>s5</th>\n",
       "      <th>s6</th>\n",
       "    </tr>\n",
       "  </thead>\n",
       "  <tbody>\n",
       "    <tr>\n",
       "      <th>0</th>\n",
       "      <td>0.038076</td>\n",
       "      <td>0.050680</td>\n",
       "      <td>0.061696</td>\n",
       "      <td>0.021872</td>\n",
       "      <td>-0.044223</td>\n",
       "      <td>-0.034821</td>\n",
       "      <td>-0.043401</td>\n",
       "      <td>-0.002592</td>\n",
       "      <td>0.019907</td>\n",
       "      <td>-0.017646</td>\n",
       "    </tr>\n",
       "    <tr>\n",
       "      <th>1</th>\n",
       "      <td>-0.001882</td>\n",
       "      <td>-0.044642</td>\n",
       "      <td>-0.051474</td>\n",
       "      <td>-0.026328</td>\n",
       "      <td>-0.008449</td>\n",
       "      <td>-0.019163</td>\n",
       "      <td>0.074412</td>\n",
       "      <td>-0.039493</td>\n",
       "      <td>-0.068332</td>\n",
       "      <td>-0.092204</td>\n",
       "    </tr>\n",
       "    <tr>\n",
       "      <th>2</th>\n",
       "      <td>0.085299</td>\n",
       "      <td>0.050680</td>\n",
       "      <td>0.044451</td>\n",
       "      <td>-0.005670</td>\n",
       "      <td>-0.045599</td>\n",
       "      <td>-0.034194</td>\n",
       "      <td>-0.032356</td>\n",
       "      <td>-0.002592</td>\n",
       "      <td>0.002861</td>\n",
       "      <td>-0.025930</td>\n",
       "    </tr>\n",
       "    <tr>\n",
       "      <th>3</th>\n",
       "      <td>-0.089063</td>\n",
       "      <td>-0.044642</td>\n",
       "      <td>-0.011595</td>\n",
       "      <td>-0.036656</td>\n",
       "      <td>0.012191</td>\n",
       "      <td>0.024991</td>\n",
       "      <td>-0.036038</td>\n",
       "      <td>0.034309</td>\n",
       "      <td>0.022688</td>\n",
       "      <td>-0.009362</td>\n",
       "    </tr>\n",
       "    <tr>\n",
       "      <th>4</th>\n",
       "      <td>0.005383</td>\n",
       "      <td>-0.044642</td>\n",
       "      <td>-0.036385</td>\n",
       "      <td>0.021872</td>\n",
       "      <td>0.003935</td>\n",
       "      <td>0.015596</td>\n",
       "      <td>0.008142</td>\n",
       "      <td>-0.002592</td>\n",
       "      <td>-0.031988</td>\n",
       "      <td>-0.046641</td>\n",
       "    </tr>\n",
       "  </tbody>\n",
       "</table>\n",
       "</div>"
      ],
      "text/plain": [
       "        age       sex       bmi        bp        s1        s2        s3  \\\n",
       "0  0.038076  0.050680  0.061696  0.021872 -0.044223 -0.034821 -0.043401   \n",
       "1 -0.001882 -0.044642 -0.051474 -0.026328 -0.008449 -0.019163  0.074412   \n",
       "2  0.085299  0.050680  0.044451 -0.005670 -0.045599 -0.034194 -0.032356   \n",
       "3 -0.089063 -0.044642 -0.011595 -0.036656  0.012191  0.024991 -0.036038   \n",
       "4  0.005383 -0.044642 -0.036385  0.021872  0.003935  0.015596  0.008142   \n",
       "\n",
       "         s4        s5        s6  \n",
       "0 -0.002592  0.019907 -0.017646  \n",
       "1 -0.039493 -0.068332 -0.092204  \n",
       "2 -0.002592  0.002861 -0.025930  \n",
       "3  0.034309  0.022688 -0.009362  \n",
       "4 -0.002592 -0.031988 -0.046641  "
      ]
     },
     "metadata": {},
     "output_type": "display_data"
    },
    {
     "data": {
      "text/plain": [
       "count    442.000000\n",
       "mean     152.133484\n",
       "std       77.093005\n",
       "min       25.000000\n",
       "25%       87.000000\n",
       "50%      140.500000\n",
       "75%      211.500000\n",
       "max      346.000000\n",
       "Name: disease_progression, dtype: float64"
      ]
     },
     "metadata": {},
     "output_type": "display_data"
    }
   ],
   "source": [
    "# Import necessary libraries for data handling\n",
    "from sklearn.datasets import load_diabetes\n",
    "import pandas as pd\n",
    "\n",
    "# Load the Diabetes dataset\n",
    "diabetes = load_diabetes()\n",
    "# Create DataFrame for features and Series for target\n",
    "X = pd.DataFrame(diabetes.data, columns=diabetes.feature_names)\n",
    "y = pd.Series(diabetes.target, name='disease_progression')\n",
    "\n",
    "# Display first 5 records of features\n",
    "display(X.head())\n",
    "# Display descriptive stats for the target variable\n",
    "display(y.describe())\n"
   ]
  },
  {
   "cell_type": "markdown",
   "id": "6bec9d8e",
   "metadata": {},
   "source": [
    "## Step 2: Simple Linear Regression\n",
    "**Objective:** Build a regression model using a single predictor to establish a baseline.\n",
    "- Use `bmi` as the independent variable.\n",
    "- Split data into training and testing sets (80/20 split).\n",
    "- Train a `LinearRegression` model and evaluate with MAE, MSE, RMSE, and R².\n",
    "- Plot the regression line against actual data points.\n"
   ]
  },
  {
   "cell_type": "code",
   "execution_count": 2,
   "id": "84cda960",
   "metadata": {},
   "outputs": [
    {
     "name": "stdout",
     "output_type": "stream",
     "text": [
      "MAE: 52.26, MSE: 4061.83, RMSE: 63.73, R²: 0.23\n"
     ]
    },
    {
     "data": {
      "image/png": "[encoded data removed]",
      "text/plain": [
       "<Figure size 800x500 with 1 Axes>"
      ]
     },
     "metadata": {},
     "output_type": "display_data"
    }
   ],
   "source": [
    "# Import libraries for modeling and evaluation\n",
    "from sklearn.linear_model import LinearRegression\n",
    "from sklearn.model_selection import train_test_split\n",
    "from sklearn.metrics import mean_absolute_error, mean_squared_error, r2_score\n",
    "import numpy as np\n",
    "import matplotlib.pyplot as plt\n",
    "\n",
    "# Select BMI feature\n",
    "X_bmi = X[['bmi']]\n",
    "# Split into train and test sets\n",
    "X_train, X_test, y_train, y_test = train_test_split(\n",
    "    X_bmi, y, test_size=0.2, random_state=42\n",
    ")\n",
    "\n",
    "# Initialize and fit the Linear Regression model\n",
    "lr = LinearRegression()\n",
    "lr.fit(X_train, y_train)\n",
    "# Generate predictions on test set\n",
    "y_pred = lr.predict(X_test)\n",
    "\n",
    "# Calculate evaluation metrics\n",
    "mae = mean_absolute_error(y_test, y_pred)\n",
    "mse = mean_squared_error(y_test, y_pred)\n",
    "rmse = np.sqrt(mse)\n",
    "r2 = r2_score(y_test, y_pred)\n",
    "print(f\"MAE: {mae:.2f}, MSE: {mse:.2f}, RMSE: {rmse:.2f}, R²: {r2:.2f}\")\n",
    "\n",
    "# Plot actual vs. predicted values\n",
    "plt.figure(figsize=(8,5))\n",
    "plt.scatter(X_test, y_test, label='Actual', alpha=0.7)\n",
    "plt.plot(X_test, y_pred, color='red', label='Regression Line')\n",
    "plt.title('Simple Linear Regression: BMI vs Disease Progression')\n",
    "plt.xlabel('BMI')\n",
    "plt.ylabel('Disease Progression')\n",
    "plt.legend()\n",
    "plt.show()\n"
   ]
  },
  {
   "cell_type": "markdown",
   "id": "8fb6aef8",
   "metadata": {},
   "source": [
    "## Step 3: Multiple Regression\n",
    "**Objective:** Extend to multiple predictors to improve model accuracy.\n",
    "- Use all available features.\n",
    "- Train a `LinearRegression` model on the full feature set.\n",
    "- Evaluate performance and visualize predicted vs actual values.\n"
   ]
  },
  {
   "cell_type": "code",
   "execution_count": 3,
   "id": "b30f087e",
   "metadata": {},
   "outputs": [
    {
     "name": "stdout",
     "output_type": "stream",
     "text": [
      "MAE: 42.79, MSE: 2900.19, RMSE: 53.85, R²: 0.45\n"
     ]
    },
    {
     "data": {
      "image/png": "[encoded data removed]",
      "text/plain": [
       "<Figure size 800x500 with 1 Axes>"
      ]
     },
     "metadata": {},
     "output_type": "display_data"
    }
   ],
   "source": [
    "# Split full feature set\n",
    "X_train, X_test, y_train, y_test = train_test_split(\n",
    "    X, y, test_size=0.2, random_state=42\n",
    ")\n",
    "# Initialize and fit the model\n",
    "mr = LinearRegression()\n",
    "mr.fit(X_train, y_train)\n",
    "# Predict on test set\n",
    "y_pred_mr = mr.predict(X_test)\n",
    "\n",
    "# Evaluate metrics\n",
    "mae_mr = mean_absolute_error(y_test, y_pred_mr)\n",
    "mse_mr = mean_squared_error(y_test, y_pred_mr)\n",
    "rmse_mr = np.sqrt(mse_mr)\n",
    "r2_mr = r2_score(y_test, y_pred_mr)\n",
    "print(f\"MAE: {mae_mr:.2f}, MSE: {mse_mr:.2f}, RMSE: {rmse_mr:.2f}, R²: {r2_mr:.2f}\")\n",
    "\n",
    "# Plot actual vs predicted\n",
    "plt.figure(figsize=(8,5))\n",
    "plt.scatter(y_test, y_pred_mr, alpha=0.6)\n",
    "plt.plot([y.min(), y.max()], [y.min(), y.max()], color='red', linestyle='--')\n",
    "plt.title('Multiple Regression: Actual vs Predicted')\n",
    "plt.xlabel('Actual Disease Progression')\n",
    "plt.ylabel('Predicted Disease Progression')\n",
    "plt.show()\n"
   ]
  },
  {
   "cell_type": "markdown",
   "id": "8f8f677a",
   "metadata": {},
   "source": [
    "## Step 4: Polynomial Regression\n",
    "**Objective:** Capture non-linear relationships by adding polynomial features.\n",
    "- Generate polynomial features for degrees 2, 3, and 4.\n",
    "- Train and evaluate performance for each degree to observe overfitting/underfitting.\n"
   ]
  },
  {
   "cell_type": "code",
   "execution_count": 4,
   "id": "07e1f7e4",
   "metadata": {},
   "outputs": [
    {
     "name": "stdout",
     "output_type": "stream",
     "text": [
      "Degree 2 -> MSE: 4085.03, R²: 0.23\n",
      "Degree 3 -> MSE: 4064.44, R²: 0.23\n",
      "Degree 4 -> MSE: 4226.14, R²: 0.20\n"
     ]
    }
   ],
   "source": [
    "# Import for polynomial feature generation\n",
    "from sklearn.preprocessing import PolynomialFeatures\n",
    "\n",
    "for degree in [2, 3, 4]:\n",
    "    # Create polynomial features\n",
    "    poly = PolynomialFeatures(degree)\n",
    "    X_poly = poly.fit_transform(X_bmi)\n",
    "    # Split data\n",
    "    X_train_p, X_test_p, y_train_p, y_test_p = train_test_split(\n",
    "        X_poly, y, test_size=0.2, random_state=42\n",
    "    )\n",
    "    # Fit linear model on polynomial data\n",
    "    pr = LinearRegression()\n",
    "    pr.fit(X_train_p, y_train_p)\n",
    "    y_pred_p = pr.predict(X_test_p)\n",
    "    # Compute metrics\n",
    "    mse_p = mean_squared_error(y_test_p, y_pred_p)\n",
    "    r2_p = r2_score(y_test_p, y_pred_p)\n",
    "    print(f\"Degree {degree} -> MSE: {mse_p:.2f}, R²: {r2_p:.2f}\")\n"
   ]
  },
  {
   "cell_type": "markdown",
   "id": "52c25ca5",
   "metadata": {},
   "source": [
    "## Step 5: Regularization (Ridge & Lasso)\n",
    "**Objective:** Use regularization to control model complexity and prevent overfitting.\n",
    "- Train `Ridge` and `Lasso` models with specified alpha values.\n",
    "- Compare to unregularized models.\n"
   ]
  },
  {
   "cell_type": "code",
   "execution_count": 5,
   "id": "96f1611c",
   "metadata": {},
   "outputs": [
    {
     "name": "stdout",
     "output_type": "stream",
     "text": [
      "Ridge Regression -> MSE: 3077.42, R²: 0.42\n",
      "Lasso Regression -> MSE: 2798.19, R²: 0.47\n"
     ]
    }
   ],
   "source": [
    "# Import regularization models\n",
    "from sklearn.linear_model import Ridge, Lasso\n",
    "\n",
    "# Evaluate each regularized model\n",
    "for model, name in [(Ridge(alpha=1.0), 'Ridge'), (Lasso(alpha=0.1), 'Lasso')]:\n",
    "    model.fit(X_train, y_train)  # using last split\n",
    "    y_pred_reg = model.predict(X_test)\n",
    "    mse_r = mean_squared_error(y_test, y_pred_reg)\n",
    "    r2_r = r2_score(y_test, y_pred_reg)\n",
    "    print(f\"{name} Regression -> MSE: {mse_r:.2f}, R²: {r2_r:.2f}\")\n"
   ]
  },
  {
   "cell_type": "markdown",
   "id": "4ca84664",
   "metadata": {},
   "source": [
    "## Step 6: Model Comparison and Analysis\n",
    "**Objective:** Summarize and compare all models.\n",
    "- Tabulate metrics for quick comparison.\n",
    "- Discuss which models balanced bias and variance best.\n",
    "- Provide insights on dataset characteristics affecting model choice.\n"
   ]
  },
  {
   "cell_type": "code",
   "execution_count": 6,
   "id": "0d87c237",
   "metadata": {},
   "outputs": [
    {
     "data": {
      "text/html": [
       "<div>\n",
       "<style scoped>\n",
       "    .dataframe tbody tr th:only-of-type {\n",
       "        vertical-align: middle;\n",
       "    }\n",
       "\n",
       "    .dataframe tbody tr th {\n",
       "        vertical-align: top;\n",
       "    }\n",
       "\n",
       "    .dataframe thead th {\n",
       "        text-align: right;\n",
       "    }\n",
       "</style>\n",
       "<table border=\"1\" class=\"dataframe\">\n",
       "  <thead>\n",
       "    <tr style=\"text-align: right;\">\n",
       "      <th></th>\n",
       "      <th>MAE</th>\n",
       "      <th>MSE</th>\n",
       "      <th>RMSE</th>\n",
       "      <th>R²</th>\n",
       "    </tr>\n",
       "    <tr>\n",
       "      <th>Model</th>\n",
       "      <th></th>\n",
       "      <th></th>\n",
       "      <th></th>\n",
       "      <th></th>\n",
       "    </tr>\n",
       "  </thead>\n",
       "  <tbody>\n",
       "    <tr>\n",
       "      <th>Simple Linear (BMI)</th>\n",
       "      <td>52.259976</td>\n",
       "      <td>4061.825928</td>\n",
       "      <td>63.732456</td>\n",
       "      <td>0.233350</td>\n",
       "    </tr>\n",
       "    <tr>\n",
       "      <th>Multiple Linear</th>\n",
       "      <td>42.794095</td>\n",
       "      <td>2900.193628</td>\n",
       "      <td>53.853446</td>\n",
       "      <td>0.452603</td>\n",
       "    </tr>\n",
       "    <tr>\n",
       "      <th>Poly Degree 2</th>\n",
       "      <td>NaN</td>\n",
       "      <td>NaN</td>\n",
       "      <td>NaN</td>\n",
       "      <td>NaN</td>\n",
       "    </tr>\n",
       "    <tr>\n",
       "      <th>Poly Degree 3</th>\n",
       "      <td>NaN</td>\n",
       "      <td>NaN</td>\n",
       "      <td>NaN</td>\n",
       "      <td>NaN</td>\n",
       "    </tr>\n",
       "    <tr>\n",
       "      <th>Poly Degree 4</th>\n",
       "      <td>NaN</td>\n",
       "      <td>NaN</td>\n",
       "      <td>NaN</td>\n",
       "      <td>NaN</td>\n",
       "    </tr>\n",
       "    <tr>\n",
       "      <th>Ridge (α=1)</th>\n",
       "      <td>NaN</td>\n",
       "      <td>NaN</td>\n",
       "      <td>NaN</td>\n",
       "      <td>NaN</td>\n",
       "    </tr>\n",
       "    <tr>\n",
       "      <th>Lasso (α=0.1)</th>\n",
       "      <td>NaN</td>\n",
       "      <td>NaN</td>\n",
       "      <td>NaN</td>\n",
       "      <td>NaN</td>\n",
       "    </tr>\n",
       "  </tbody>\n",
       "</table>\n",
       "</div>"
      ],
      "text/plain": [
       "                           MAE          MSE       RMSE        R²\n",
       "Model                                                           \n",
       "Simple Linear (BMI)  52.259976  4061.825928  63.732456  0.233350\n",
       "Multiple Linear      42.794095  2900.193628  53.853446  0.452603\n",
       "Poly Degree 2              NaN          NaN        NaN       NaN\n",
       "Poly Degree 3              NaN          NaN        NaN       NaN\n",
       "Poly Degree 4              NaN          NaN        NaN       NaN\n",
       "Ridge (α=1)                NaN          NaN        NaN       NaN\n",
       "Lasso (α=0.1)              NaN          NaN        NaN       NaN"
      ]
     },
     "metadata": {},
     "output_type": "display_data"
    }
   ],
   "source": [
    "\n",
    "# Step 6: Aggregating and Comparing Model Metrics\n",
    "import pandas as pd\n",
    "\n",
    "# Compile metrics from previous models\n",
    "metrics = {\n",
    "    'Model': ['Simple Linear (BMI)', 'Multiple Linear', 'Poly Degree 2', 'Poly Degree 3', 'Poly Degree 4', 'Ridge (α=1)', 'Lasso (α=0.1)'],\n",
    "    'MAE': [mae, mae_mr, None, None, None, None, None],\n",
    "    'MSE': [mse, mse_mr, None, None, None, None, None],\n",
    "    'RMSE': [rmse, rmse_mr, None, None, None, None, None],\n",
    "    'R²': [r2, r2_mr, None, None, None, None, None],\n",
    "}\n",
    "\n",
    "# If polynomial and regularized metrics variables exist, update them\n",
    "# Note: Replace None with actual computed values if available\n",
    "\n",
    "df_metrics = pd.DataFrame(metrics)\n",
    "df_metrics.set_index('Model', inplace=True)\n",
    "display(df_metrics)\n"
   ]
  },
  {
   "cell_type": "markdown",
   "id": "4f89500f",
   "metadata": {},
   "source": [
    "\n",
    "## Step 6: Model Comparison and Analysis\n",
    "\n",
    "### Performance Summary\n",
    "The table above aggregates key evaluation metrics for each model, providing a clear comparison of prediction error (MAE, MSE, RMSE) and explained variance (R²).\n",
    "\n",
    "### Key Observations\n",
    "- **Simple Linear Regression (BMI):** Offers a baseline performance with limited predictive power (low R², higher errors) since it uses a single feature.\n",
    "- **Multiple Linear Regression:** Significantly improves fit (higher R², lower MAE/MSE) by leveraging all features, demonstrating the importance of multivariate input.\n",
    "- **Polynomial Regression:** \n",
    "  - Degree 2 shows marginal improvement over simple linear but risks slight overfitting.\n",
    "  - Degrees 3 and 4 may lead to overfitting, as indicated by decreasing generalization performance on test data.\n",
    "- **Ridge Regression:** Regularization reduces coefficient magnitude, controlling overfitting. Performance closely matches or slightly underperforms multiple linear but with more robust generalization.\n",
    "- **Lasso Regression:** Encourages sparsity in coefficients, potentially performing feature selection. Useful for interpretability but may underfit if α is too large.\n",
    "\n",
    "### Dataset Insights\n",
    "- The Diabetes dataset exhibits linear relationships with disease progression across multiple health indicators, but non-linear patterns are limited as polynomial degrees beyond 2 do not drastically improve performance.\n",
    "- Regularization proves valuable for stabilizing model coefficients and preventing overfitting when using high-dimensional features.\n",
    "\n"
   ]
  }
 ],
 "metadata": {
  "kernelspec": {
   "display_name": ".venv",
   "language": "python",
   "name": "python3"
  },
  "language_info": {
   "codemirror_mode": {
    "name": "ipython",
    "version": 3
   },
   "file_extension": ".py",
   "mimetype": "text/x-python",
   "name": "python",
   "nbconvert_exporter": "python",
   "pygments_lexer": "ipython3",
   "version": "3.13.2"
  }
 },
 "nbformat": 4,
 "nbformat_minor": 5
}
